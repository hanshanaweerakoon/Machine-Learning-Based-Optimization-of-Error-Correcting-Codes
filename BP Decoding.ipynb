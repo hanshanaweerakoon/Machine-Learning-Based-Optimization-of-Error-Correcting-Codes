{
 "cells": [
  {
   "cell_type": "markdown",
   "id": "b7353f52-2a44-4923-b1e9-8b65a69d37c9",
   "metadata": {},
   "source": [
    "# LDPC optimization using Graph Neural Network"
   ]
  },
  {
   "cell_type": "markdown",
   "id": "fe9e4a15-dd2d-49da-b150-79eb4c0bb760",
   "metadata": {},
   "source": [
    "### LDPC encode and decode using Standard Belief Propagation(BP)"
   ]
  },
  {
   "cell_type": "code",
   "execution_count": 73,
   "id": "437cd1c2-fd76-4a9a-89e5-4264a644ba93",
   "metadata": {},
   "outputs": [
    {
     "name": "stdout",
     "output_type": "stream",
     "text": [
      "Original message:  [1 1 1 0 1 0 0 0 0]\n",
      "Decoded message:   [1 1 1 0 1 0 0 0 0]\n",
      "Messages are equal: True\n"
     ]
    }
   ],
   "source": [
    "import numpy as np\n",
    "from pyldpc import make_ldpc, encode, decode, get_message\n",
    "\n",
    "n = 16  # codeword length\n",
    "d_v = 2  # number of ones per column\n",
    "d_c = 4  # number of ones per row\n",
    "snr = 5  # signal-to-noise ratio (dB)\n",
    "\n",
    "# Create LDPC matrices\n",
    "H, G = make_ldpc(n, d_v, d_c, systematic=True, sparse=True)\n",
    "\n",
    "# Random binary message\n",
    "k = G.shape[1]\n",
    "message = np.random.randint(2, size=k)\n",
    "\n",
    "# Encode (and modulate to BPSK: 0 -> +1, 1 -> -1)\n",
    "codeword = encode(G, message,1000)\n",
    "\n",
    "# Calculate the noise standard deviation (sigma) from the SNR\n",
    "sigma = np.sqrt(1 / (10**(snr / 10)))\n",
    "\n",
    "# Create noise with the correct standard deviation and add it to the codeword\n",
    "noise = np.random.normal(0, sigma, codeword.shape)\n",
    "y = codeword + noise\n",
    "\n",
    "# Decode\n",
    "decoded = decode(H, y, snr,maxiter=30)\n",
    "\n",
    "# Extract original message\n",
    "message_hat = get_message(G, decoded)\n",
    "\n",
    "# Print results\n",
    "print(\"Original message: \", message)\n",
    "print(\"Decoded message:  \", message_hat)\n",
    "print(\"Messages are equal:\", np.array_equal(message,message_hat))\n"
   ]
  },
  {
   "cell_type": "code",
   "execution_count": 64,
   "id": "7772d712-aae8-4870-8ffc-b2b34bb63752",
   "metadata": {},
   "outputs": [
    {
     "name": "stdout",
     "output_type": "stream",
     "text": [
      "LDPC code: (96, 50)  rate ≈ 0.52\n",
      "Running 500 frames per SNR point...\n",
      "\n"
     ]
    },
    {
     "name": "stderr",
     "output_type": "stream",
     "text": [
      "SNR Progress:   8%|████████                                                                                         | 1/12 [00:06<01:14,  6.75s/it]"
     ]
    },
    {
     "name": "stdout",
     "output_type": "stream",
     "text": [
      "SNR=-6 dB → BER=2.3956e-01, FER=1.0000e+00\n"
     ]
    },
    {
     "name": "stderr",
     "output_type": "stream",
     "text": [
      "SNR Progress:  17%|████████████████▏                                                                                | 2/12 [00:13<01:07,  6.76s/it]"
     ]
    },
    {
     "name": "stdout",
     "output_type": "stream",
     "text": [
      "SNR=-5 dB → BER=2.1520e-01, FER=1.0000e+00\n"
     ]
    },
    {
     "name": "stderr",
     "output_type": "stream",
     "text": [
      "SNR Progress:  25%|████████████████████████▎                                                                        | 3/12 [00:19<00:59,  6.61s/it]"
     ]
    },
    {
     "name": "stdout",
     "output_type": "stream",
     "text": [
      "SNR=-4 dB → BER=1.8028e-01, FER=1.0000e+00\n"
     ]
    },
    {
     "name": "stderr",
     "output_type": "stream",
     "text": [
      "SNR Progress:  33%|████████████████████████████████▎                                                                | 4/12 [00:26<00:52,  6.56s/it]"
     ]
    },
    {
     "name": "stdout",
     "output_type": "stream",
     "text": [
      "SNR=-3 dB → BER=1.3912e-01, FER=1.0000e+00\n"
     ]
    },
    {
     "name": "stderr",
     "output_type": "stream",
     "text": [
      "SNR Progress:  42%|████████████████████████████████████████▍                                                        | 5/12 [00:34<00:49,  7.10s/it]"
     ]
    },
    {
     "name": "stdout",
     "output_type": "stream",
     "text": [
      "SNR=-2 dB → BER=1.0164e-01, FER=9.5400e-01\n"
     ]
    },
    {
     "name": "stderr",
     "output_type": "stream",
     "text": [
      "SNR Progress:  50%|████████████████████████████████████████████████▌                                                | 6/12 [00:39<00:39,  6.54s/it]"
     ]
    },
    {
     "name": "stdout",
     "output_type": "stream",
     "text": [
      "SNR=-1 dB → BER=4.3680e-02, FER=5.5400e-01\n"
     ]
    },
    {
     "name": "stderr",
     "output_type": "stream",
     "text": [
      "SNR Progress:  58%|████████████████████████████████████████████████████████▌                                        | 7/12 [00:41<00:25,  5.07s/it]"
     ]
    },
    {
     "name": "stdout",
     "output_type": "stream",
     "text": [
      "SNR= 0 dB → BER=6.3600e-03, FER=1.0400e-01\n"
     ]
    },
    {
     "name": "stderr",
     "output_type": "stream",
     "text": [
      "SNR Progress:  67%|████████████████████████████████████████████████████████████████▋                                | 8/12 [00:42<00:14,  3.69s/it]"
     ]
    },
    {
     "name": "stdout",
     "output_type": "stream",
     "text": [
      "SNR= 1 dB → BER=8.0000e-04, FER=2.8000e-02\n"
     ]
    },
    {
     "name": "stderr",
     "output_type": "stream",
     "text": [
      "SNR Progress:  75%|████████████████████████████████████████████████████████████████████████▊                        | 9/12 [00:43<00:08,  2.72s/it]"
     ]
    },
    {
     "name": "stdout",
     "output_type": "stream",
     "text": [
      "SNR= 2 dB → BER=2.0000e-04, FER=4.0000e-03\n"
     ]
    },
    {
     "name": "stderr",
     "output_type": "stream",
     "text": [
      "SNR Progress:  83%|████████████████████████████████████████████████████████████████████████████████                | 10/12 [00:43<00:03,  2.00s/it]"
     ]
    },
    {
     "name": "stdout",
     "output_type": "stream",
     "text": [
      "SNR= 3 dB → BER=2.4000e-04, FER=2.0000e-03\n"
     ]
    },
    {
     "name": "stderr",
     "output_type": "stream",
     "text": [
      "SNR Progress:  92%|████████████████████████████████████████████████████████████████████████████████████████        | 11/12 [00:44<00:01,  1.50s/it]"
     ]
    },
    {
     "name": "stdout",
     "output_type": "stream",
     "text": [
      "SNR= 4 dB → BER=4.0000e-05, FER=2.0000e-03\n"
     ]
    },
    {
     "name": "stderr",
     "output_type": "stream",
     "text": [
      "SNR Progress: 100%|████████████████████████████████████████████████████████████████████████████████████████████████| 12/12 [00:44<00:00,  3.70s/it]"
     ]
    },
    {
     "name": "stdout",
     "output_type": "stream",
     "text": [
      "SNR= 5 dB → BER=0.0000e+00, FER=0.0000e+00\n"
     ]
    },
    {
     "name": "stderr",
     "output_type": "stream",
     "text": [
      "\n"
     ]
    },
    {
     "data": {
      "image/png": "[encoded data removed]",
      "text/plain": [
       "<Figure size 1200x400 with 2 Axes>"
      ]
     },
     "metadata": {},
     "output_type": "display_data"
    }
   ],
   "source": [
    "import numpy as np\n",
    "import matplotlib.pyplot as plt\n",
    "import pyldpc\n",
    "from tqdm import tqdm\n",
    "\n",
    "n, d_v, d_c = 96, 3, 6\n",
    "H, G = pyldpc.make_ldpc(n, d_v, d_c, systematic=True, sparse=True)\n",
    "k = G.shape[1]\n",
    "\n",
    "snr_db_range = np.arange(-6, 6, 1)                                     # variables :- SNR range, code rate, max iter\n",
    "Nframes = 500\n",
    "max_iter = 30\n",
    "\n",
    "print(f\"LDPC code: ({n}, {k})  rate ≈ {k/n:.2f}\")\n",
    "print(f\"Running {Nframes} frames per SNR point...\\n\")\n",
    "\n",
    "BER = []\n",
    "FER = []  \n",
    "\n",
    "for snr_db in tqdm(snr_db_range, desc=\"SNR Progress\"):\n",
    "    total_err = 0\n",
    "    frame_errors = 0\n",
    "    \n",
    "    for _ in range(Nframes):\n",
    "        msg = np.random.randint(0, 2, size=k)                           # Generate random message\n",
    "        codeword = pyldpc.encode(G, msg, 1000)                          # Encode using LDPC (outputs BPSK: {-1, +1})\n",
    "        \n",
    "        snr_linear = 10 ** (snr_db / 10)                                # Add AWGN noise\n",
    "        sigma = np.sqrt(1 / (2 * snr_linear))\n",
    "        y = codeword + sigma * np.random.randn(n)\n",
    "        \n",
    "        decoded = pyldpc.decode(H, y, snr_db, maxiter=max_iter)         # Decode using BP\n",
    "        \n",
    "        errors = np.sum(msg != decoded[:k])\n",
    "        total_err += errors\n",
    "        if errors > 0:\n",
    "            frame_errors += 1\n",
    "    \n",
    "    ber = total_err / (k * Nframes)\n",
    "    fer = frame_errors / Nframes\n",
    "    BER.append(ber)\n",
    "    FER.append(fer)\n",
    "    print(f\"SNR={snr_db:2d} dB → BER={ber:.4e}, FER={fer:.4e}\")\n",
    "\n",
    "\n",
    "fig, (ax1, ax2) = plt.subplots(1, 2, figsize=(12, 4))\n",
    "ax1.semilogy(snr_db_range, BER, marker='o', linewidth=2, markersize=8, label='LDPC BP')\n",
    "ax1.set_title(f\"LDPC ({n},{k}) BER vs SNR\", fontsize=12, fontweight='bold')\n",
    "ax1.set_xlabel(\"SNR (dB)\", fontsize=11)\n",
    "ax1.set_ylabel(\"Bit Error Rate (BER)\", fontsize=11)\n",
    "ax1.grid(True, which='both', linestyle='--', alpha=0.6)\n",
    "ax1.legend()\n",
    "\n",
    "ax2.semilogy(snr_db_range, FER, marker='s', linewidth=2, markersize=8, \n",
    "             color='orange', label='LDPC BP')\n",
    "ax2.set_title(f\"LDPC ({n},{k}) FER vs SNR\", fontsize=12, fontweight='bold')\n",
    "ax2.set_xlabel(\"SNR (dB)\", fontsize=11)\n",
    "ax2.set_ylabel(\"Frame Error Rate (FER)\", fontsize=11)\n",
    "ax2.grid(True, which='both', linestyle='--', alpha=0.6)\n",
    "ax2.legend()\n",
    "plt.tight_layout()\n",
    "plt.show()\n",
    "\n"
   ]
  },
  {
   "cell_type": "markdown",
   "id": "9215631c-3420-4efa-aa50-59949fd2908c",
   "metadata": {},
   "source": [
    "### LDPC encode and decode using Normalize min-sum method"
   ]
  },
  {
   "cell_type": "code",
   "execution_count": null,
   "id": "6bd656ce-d819-48bf-8765-03eeb486f4a0",
   "metadata": {},
   "outputs": [
    {
     "name": "stderr",
     "output_type": "stream",
     "text": [
      " 71%|████████████████████████████████████████████████████████████████████████████████                                | 5/7 [04:25<01:39, 49.68s/it]"
     ]
    }
   ],
   "source": [
    "import numpy as np\n",
    "import pandas as pd\n",
    "import matplotlib.pyplot as plt\n",
    "import pyldpc\n",
    "from tqdm import tqdm\n",
    "\n",
    "n, d_v, d_c = 96, 3, 6\n",
    "H, G = pyldpc.make_ldpc(n, d_v, d_c, systematic=True, sparse=True)\n",
    "k = G.shape[1]  \n",
    "\n",
    "snr_db_range = np.arange(-3, 4, 1)\n",
    "Nframes = 100  \n",
    "max_iter = 30\n",
    "\n",
    "def awgn_channel(x, snr_db):\n",
    "    snr_linear = 10 ** (snr_db / 10)\n",
    "    sigma2 = 1 / (2 * snr_linear)\n",
    "    noise = np.sqrt(sigma2) * np.random.randn(len(x))\n",
    "    return x + noise, sigma2\n",
    "\n",
    "# =====================================================================================\n",
    "# ==================================Min-Sum Decoder====================================\n",
    "def min_sum_decode(y, H, sigma2, max_iter=30,alpha=0.8):\n",
    "    m, n = H.shape\n",
    "    Lch = 2 * y / sigma2              # channel LLR\n",
    "    Lq = np.tile(Lch, (m, 1))\n",
    "    Lr = np.zeros((m, n))\n",
    "\n",
    "    for it in range(max_iter):\n",
    "        # Check node update\n",
    "        for i in range(m):\n",
    "            idx = np.where(H[i, :] == 1)[0]\n",
    "            signs = np.sign(Lq[i, idx])\n",
    "            mins = np.min(np.abs(Lq[i, idx]))\n",
    "            for j_pos, j in enumerate(idx):\n",
    "                sign_msg = np.prod(np.delete(signs, j_pos))\n",
    "                Lr[i, j] = alpha * sign_msg * mins\n",
    "\n",
    "        # Variable node update\n",
    "        for j in range(n):\n",
    "            idx = np.where(H[:, j] == 1)[0]\n",
    "            Lq[idx, j] = Lch[j] + np.sum(Lr[idx, j]) - Lr[idx, j]\n",
    "\n",
    "        # A-posteriori LLR\n",
    "        L_post = Lch + np.sum(Lr, axis=0)\n",
    "        hard = (L_post < 0).astype(int)\n",
    "\n",
    "        # Early stopping if syndrome = 0\n",
    "        if np.all((H @ hard) % 2 == 0):\n",
    "            return hard, it + 1\n",
    "\n",
    "    return hard, max_iter\n",
    "\n",
    "\n",
    "ber_bp, ber_ms = [], []\n",
    "iter_ms, iter_bp = [], []\n",
    "\n",
    "for snr_db in tqdm(snr_db_range):\n",
    "    err_bp = err_ms = 0\n",
    "    it_ms_total = it_bp_total = 0\n",
    "    bits_total = 0\n",
    "\n",
    "    for _ in range(Nframes):\n",
    "        msg = np.random.randint(2, size=k)\n",
    "        codeword = pyldpc.encode(G, msg, snr=1000)                   # BPSK output (+1/-1)\n",
    "        y, sigma2 = awgn_channel(codeword, snr_db)                   # AWGN channel\n",
    "        \n",
    "        decoded_bp = pyldpc.decode(H, y, snr_db, maxiter=max_iter)   # BP Decoding\n",
    "        decoded_bp = decoded_bp[:k]  \n",
    "\n",
    "        decoded_ms, it_used = min_sum_decode(y, H, sigma2, max_iter,alpha=0.8) # Min-Sum Decoding\n",
    "        decoded_ms = decoded_ms[:k]\n",
    "\n",
    "        err_bp += np.sum(decoded_bp != msg)\n",
    "        err_ms += np.sum(decoded_ms != msg)\n",
    "        bits_total += k\n",
    "        it_ms_total += it_used\n",
    "        it_bp_total += max_iter  \n",
    "\n",
    "    ber_bp.append(err_bp / bits_total)\n",
    "    ber_ms.append(err_ms / bits_total)\n",
    "    iter_ms.append(it_ms_total / Nframes)\n",
    "    iter_bp.append(it_bp_total / Nframes)\n",
    "\n",
    "# print values\n",
    "df = pd.DataFrame({\n",
    "    'BER_BP': ber_bp,\n",
    "    'Iter_BP': iter_bp,\n",
    "    'BER_MS': ber_ms,\n",
    "    'Iter_MS': iter_ms\n",
    "}, index=snr_db_range)\n",
    "\n",
    "df.index.name = 'SNR (dB)'\n",
    "print(df)\n",
    "\n",
    "plt.figure(figsize=(10, 6))\n",
    "plt.semilogy(snr_db_range, ber_bp, 'o-', label='Belief Propagation', linewidth=2, markersize=8)\n",
    "plt.semilogy(snr_db_range, ber_ms, 's--', label='Min-Sum', linewidth=2, markersize=8)\n",
    "plt.xlabel('SNR (dB)')\n",
    "plt.ylabel('Bit Error Rate (BER)')\n",
    "plt.title('LDPC Decoding Performance (BP vs Min-Sum)')\n",
    "plt.grid(True, which='both', linestyle='--', linewidth=0.7)\n",
    "plt.legend()\n",
    "plt.show()\n",
    "\n",
    "plt.figure(figsize=(10, 6))\n",
    "plt.plot(snr_db_range, iter_bp, 'o-', label='BP Avg Iterations', linewidth=2, markersize=8)\n",
    "plt.plot(snr_db_range, iter_ms, 's--', label='Min-Sum Avg Iterations', linewidth=2, markersize=8)\n",
    "plt.xlabel('SNR (dB)')\n",
    "plt.ylabel('Average Iterations')\n",
    "plt.title('Average Iterations vs SNR')\n",
    "plt.grid(True, linestyle='--')\n",
    "plt.legend()\n",
    "plt.show()\n"
   ]
  },
  {
   "cell_type": "markdown",
   "id": "163ffc21-6a97-481e-bc3c-dbd11a4f77ab",
   "metadata": {},
   "source": [
    "### Neural BP"
   ]
  },
  {
   "cell_type": "code",
   "execution_count": null,
   "id": "88414f8d-0b01-4e5f-8f1c-55ce2c6a56c3",
   "metadata": {},
   "outputs": [],
   "source": []
  },
  {
   "cell_type": "code",
   "execution_count": null,
   "id": "641728a8-5690-4048-ba4e-5a0cb7c5f957",
   "metadata": {},
   "outputs": [],
   "source": []
  }
 ],
 "metadata": {
  "kernelspec": {
   "display_name": "Python 3 (ipykernel)",
   "language": "python",
   "name": "python3"
  },
  "language_info": {
   "codemirror_mode": {
    "name": "ipython",
    "version": 3
   },
   "file_extension": ".py",
   "mimetype": "text/x-python",
   "name": "python",
   "nbconvert_exporter": "python",
   "pygments_lexer": "ipython3",
   "version": "3.10.18"
  }
 },
 "nbformat": 4,
 "nbformat_minor": 5
}
