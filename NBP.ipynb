{
  "nbformat": 4,
  "nbformat_minor": 0,
  "metadata": {
    "colab": {
      "provenance": [],
      "authorship_tag": "ABX9TyMycjvWQSEE7RSHJFhOiBpd",
      "include_colab_link": true
    },
    "kernelspec": {
      "name": "python3",
      "display_name": "Python 3"
    },
    "language_info": {
      "name": "python"
    }
  },
  "cells": [
    {
      "cell_type": "markdown",
      "metadata": {
        "id": "view-in-github",
        "colab_type": "text"
      },
      "source": [
        "<a href=\"https://colab.research.google.com/github/hanshanaweerakoon/Machine-Learning-Based-Optimization-of-Error-Correcting-Codes/blob/main/NBP.ipynb\" target=\"_parent\"><img src=\"https://colab.research.google.com/assets/colab-badge.svg\" alt=\"Open In Colab\"/></a>"
      ]
    },
    {
      "cell_type": "code",
      "source": [
        "import torch\n",
        "import torch.nn as nn\n",
        "import numpy as np\n",
        "from tqdm import tqdm\n",
        "import pyldpc\n",
        "\n",
        "\n",
        "# ===============================================================\n",
        "# 1. Code Definition\n",
        "# ===============================================================\n",
        "# Define the parameters for an LDPC code\n",
        "n = 24     # Codeword length\n",
        "d_v = 2     # Number of 1s per column in H\n",
        "d_c = 4     # Number of 1s per row in H\n",
        "H, G = pyldpc.make_ldpc(n, d_v, d_c, systematic=True, sparse=True)\n",
        "H = torch.tensor(H, dtype=torch.float32)\n",
        "\n",
        "print(f\"Generated H matrix of shape: {H.shape}\")\n",
        "\n",
        "# ===============================================================\n",
        "# 2. Neural BP Layer Implementation 🧠\n",
        "# ===============================================================\n",
        "class NeuralBP(nn.Module):\n",
        "    \"\"\"\n",
        "    Implements a learnable Belief Propagation decoder.\n",
        "    The weights on the messages are treated as trainable parameters.\n",
        "    \"\"\"\n",
        "    def __init__(self, H, num_iter=3):\n",
        "        super().__init__()\n",
        "        self.H = H\n",
        "        self.num_iter = num_iter\n",
        "\n",
        "        # Trainable weights for each edge at each iteration\n",
        "        self.weights = nn.Parameter(torch.ones(num_iter, *H.shape))\n",
        "\n",
        "        # Precompute neighbor indices for efficiency\n",
        "        self.check_neighbors = [torch.where(H[i, :] == 1)[0] for i in range(H.shape[0])]\n",
        "        self.var_neighbors   = [torch.where(H[:, j] == 1)[0] for j in range(H.shape[1])]\n",
        "\n",
        "    def forward(self, llr_channel):\n",
        "        \"\"\"\n",
        "        Executes the neural BP decoding process.\n",
        "        \"\"\"\n",
        "        m, n = self.H.shape\n",
        "        # Messages from variable nodes to check nodes\n",
        "        Lq = torch.zeros(m, n, device=llr_channel.device)\n",
        "        # Messages from check nodes to variable nodes\n",
        "        Lr = torch.zeros(m, n, device=llr_channel.device)\n",
        "\n",
        "        # The decoder is unrolled for a fixed number of iterations\n",
        "        for t in range(self.num_iter):\n",
        "            # --- Check node update (using Min-Sum approximation) ---\n",
        "            for i in range(m):\n",
        "                idx = self.check_neighbors[i]\n",
        "                if len(idx) == 0: continue\n",
        "\n",
        "                # Gather incoming messages for this check node\n",
        "                incoming_msgs = Lq[i, idx]\n",
        "\n",
        "                # For each connected variable node, compute the outgoing message\n",
        "                for j_node_idx, j in enumerate(idx):\n",
        "                    # Extrinsic principle: use all messages except the one from the target node\n",
        "                    others = torch.cat([incoming_msgs[:j_node_idx], incoming_msgs[j_node_idx+1:]])\n",
        "\n",
        "                    if len(others) == 0: continue\n",
        "\n",
        "                    # Min-Sum update rule\n",
        "                    signs = torch.prod(torch.sign(others))\n",
        "                    abs_min = torch.min(torch.abs(others))\n",
        "                    msg = signs * abs_min\n",
        "\n",
        "                    # Apply the learned weight for this edge and iteration\n",
        "                    Lr[i, j] = self.weights[t, i, j] * msg\n",
        "\n",
        "            # --- Variable node update ---\n",
        "            for j in range(n):\n",
        "                idx = self.var_neighbors[j]\n",
        "                if len(idx) == 0: continue\n",
        "\n",
        "                # Sum of incoming messages from check nodes\n",
        "                sum_lr = torch.sum(Lr[idx, j], dim=0)\n",
        "\n",
        "                # Extrinsic principle: add channel LLR and subtract the message being sent back\n",
        "                Lq[idx, j] = llr_channel[j] + sum_lr - Lr[idx, j]\n",
        "\n",
        "        # --- Final posterior LLR calculation ---\n",
        "        final_Lr_sum = torch.sum(Lr, dim=0)\n",
        "        L_posterior = llr_channel + final_Lr_sum\n",
        "\n",
        "        # Return probabilities (for BCELoss)\n",
        "        return torch.sigmoid(-L_posterior)\n",
        "\n",
        "# ===============================================================\n",
        "# 3. Training Setup and Simulation\n",
        "# ===============================================================\n",
        "# Channel simulation function\n",
        "def awgn_channel(x, snr_db):\n",
        "    \"\"\"Simulates passing BPSK symbols through an AWGN channel.\"\"\"\n",
        "    snr_linear = 10 ** (snr_db / 10.0)\n",
        "    # Rate is k/n, k = rank of G\n",
        "    k = np.linalg.matrix_rank(G)\n",
        "    rate = k / x.shape[-1]\n",
        "    sigma = np.sqrt(1 / (2 * rate * snr_linear))\n",
        "    noise = sigma * np.random.randn(*x.shape)\n",
        "    return x + noise\n",
        "\n",
        "# --- Hyperparameters ---\n",
        "DEVICE = torch.device('cpu')\n",
        "model = NeuralBP(H, num_iter=5).to(DEVICE)\n",
        "optimizer = torch.optim.Adam(model.parameters(), lr=0.001)\n",
        "loss_fn = nn.BCELoss()\n",
        "NUM_EPOCHS = 10\n",
        "BATCHES_PER_EPOCH = 50\n",
        "SNR_DB = 2.5 # Training SNR\n",
        "\n",
        "# --- Training Loop ---\n",
        "print(f\"\\nStarting training on {DEVICE} for {NUM_EPOCHS} epochs...\")\n",
        "\n",
        "for epoch in range(NUM_EPOCHS):\n",
        "    total_loss = 0\n",
        "    for _ in tqdm(range(BATCHES_PER_EPOCH), desc=f\"Epoch {epoch+1}/{NUM_EPOCHS}\"):\n",
        "\n",
        "        # 1. Generate a random message and encode it\n",
        "        msg = np.random.randint(0, 2, G.shape[1])\n",
        "        codeword = pyldpc.encode(G, msg,1000)\n",
        "\n",
        "        # 2. BPSK modulation (0 -> +1, 1 -> -1)\n",
        "        #transmitted_signal = 1 - 2 * codeword\n",
        "\n",
        "        # 3. Pass through AWGN channel\n",
        "        received_signal = awgn_channel(transmitted_signal, SNR_DB)\n",
        "        for i in range(len(codeword)):\n",
        "            if codeword[i] < 0:\n",
        "                codeword[i] = 1\n",
        "            else:\n",
        "                codeword[i] = 0\n",
        "        # 4. Calculate initial LLRs from the channel\n",
        "        # For BPSK over AWGN, LLR(y) = 2*y/sigma^2. Since sigma^2 is constant for a given SNR,\n",
        "        # we can use a simplified LLR proportional to y.\n",
        "        llr_initial = 2 * torch.tensor(received_signal, dtype=torch.float32).to(DEVICE)\n",
        "\n",
        "        # 5. Get model prediction and compute loss\n",
        "        target = torch.tensor(codeword, dtype=torch.float32).to(DEVICE)\n",
        "        prediction = model(llr_initial)\n",
        "\n",
        "        loss = loss_fn(prediction, target)\n",
        "\n",
        "        # 6. Backpropagation\n",
        "        optimizer.zero_grad()\n",
        "        loss.backward()\n",
        "        optimizer.step()\n",
        "\n",
        "        total_loss += loss.item()\n",
        "\n",
        "    avg_loss = total_loss / BATCHES_PER_EPOCH\n",
        "    print(f\"Epoch {epoch+1} complete | Average Loss = {avg_loss:.5f}\")\n",
        "\n",
        "print(\"\\nTraining finished!\")\n",
        "\n",
        "# Optional: Print a sample of the learned weights from the first iteration\n",
        "print(\"\\nSample of learned weights (first iteration, non-one values):\")\n",
        "trained_weights = model.weights.data[0].cpu().numpy()\n",
        "non_one_weights = trained_weights[trained_weights != 1.0]\n",
        "print(non_one_weights[:15])"
      ],
      "metadata": {
        "colab": {
          "base_uri": "https://localhost:8080/"
        },
        "id": "6FKG6jgjmQaq",
        "outputId": "817bef17-c62f-4386-b68c-b36bc52cc2a0"
      },
      "execution_count": null,
      "outputs": [
        {
          "output_type": "stream",
          "name": "stdout",
          "text": [
            "Generated H matrix of shape: torch.Size([12, 24])\n",
            "\n",
            "Starting training on cpu for 10 epochs...\n"
          ]
        },
        {
          "output_type": "stream",
          "name": "stderr",
          "text": [
            "Epoch 1/10: 100%|██████████| 50/50 [00:05<00:00,  9.86it/s]\n"
          ]
        },
        {
          "output_type": "stream",
          "name": "stdout",
          "text": [
            "Epoch 1 complete | Average Loss = 3.61490\n"
          ]
        },
        {
          "output_type": "stream",
          "name": "stderr",
          "text": [
            "Epoch 2/10: 100%|██████████| 50/50 [00:04<00:00, 11.12it/s]\n"
          ]
        },
        {
          "output_type": "stream",
          "name": "stdout",
          "text": [
            "Epoch 2 complete | Average Loss = 3.34375\n"
          ]
        },
        {
          "output_type": "stream",
          "name": "stderr",
          "text": [
            "Epoch 3/10: 100%|██████████| 50/50 [00:04<00:00, 11.60it/s]\n"
          ]
        },
        {
          "output_type": "stream",
          "name": "stdout",
          "text": [
            "Epoch 3 complete | Average Loss = 3.53785\n"
          ]
        },
        {
          "output_type": "stream",
          "name": "stderr",
          "text": [
            "Epoch 4/10: 100%|██████████| 50/50 [00:05<00:00,  9.64it/s]\n"
          ]
        },
        {
          "output_type": "stream",
          "name": "stdout",
          "text": [
            "Epoch 4 complete | Average Loss = 3.35863\n"
          ]
        },
        {
          "output_type": "stream",
          "name": "stderr",
          "text": [
            "Epoch 5/10: 100%|██████████| 50/50 [00:04<00:00, 11.61it/s]\n"
          ]
        },
        {
          "output_type": "stream",
          "name": "stdout",
          "text": [
            "Epoch 5 complete | Average Loss = 3.17972\n"
          ]
        },
        {
          "output_type": "stream",
          "name": "stderr",
          "text": [
            "Epoch 6/10: 100%|██████████| 50/50 [00:04<00:00, 10.18it/s]\n"
          ]
        },
        {
          "output_type": "stream",
          "name": "stdout",
          "text": [
            "Epoch 6 complete | Average Loss = 2.87865\n"
          ]
        },
        {
          "output_type": "stream",
          "name": "stderr",
          "text": [
            "Epoch 7/10: 100%|██████████| 50/50 [00:04<00:00, 12.23it/s]\n"
          ]
        },
        {
          "output_type": "stream",
          "name": "stdout",
          "text": [
            "Epoch 7 complete | Average Loss = 3.18131\n"
          ]
        },
        {
          "output_type": "stream",
          "name": "stderr",
          "text": [
            "Epoch 8/10: 100%|██████████| 50/50 [00:04<00:00, 10.62it/s]\n"
          ]
        },
        {
          "output_type": "stream",
          "name": "stdout",
          "text": [
            "Epoch 8 complete | Average Loss = 2.81627\n"
          ]
        },
        {
          "output_type": "stream",
          "name": "stderr",
          "text": [
            "Epoch 9/10: 100%|██████████| 50/50 [00:04<00:00, 10.01it/s]\n"
          ]
        },
        {
          "output_type": "stream",
          "name": "stdout",
          "text": [
            "Epoch 9 complete | Average Loss = 2.82289\n"
          ]
        },
        {
          "output_type": "stream",
          "name": "stderr",
          "text": [
            "Epoch 10/10: 100%|██████████| 50/50 [00:04<00:00, 10.99it/s]"
          ]
        },
        {
          "output_type": "stream",
          "name": "stdout",
          "text": [
            "Epoch 10 complete | Average Loss = 2.54161\n",
            "\n",
            "Training finished!\n",
            "\n",
            "Sample of learned weights (first iteration, non-one values):\n",
            "[]\n"
          ]
        },
        {
          "output_type": "stream",
          "name": "stderr",
          "text": [
            "\n"
          ]
        }
      ]
    },
    {
      "cell_type": "code",
      "source": [
        "# neural_bp_full.py\n",
        "# ==========================================================\n",
        "# Full Neural Belief Propagation (vectorized, exact min-exclusion)\n",
        "# Requirements: pip install torch pyldpc numpy matplotlib tqdm\n",
        "# ==========================================================\n",
        "\n",
        "import numpy as np\n",
        "import torch\n",
        "import torch.nn as nn\n",
        "import torch.optim as optim\n",
        "import pyldpc\n",
        "import matplotlib.pyplot as plt\n",
        "from tqdm import trange\n",
        "\n",
        "# ------------------------\n",
        "# 1) LDPC code parameters\n",
        "# ------------------------\n",
        "n, d_v, d_c = 96, 3, 6  # you can change these\n",
        "H_np, G = pyldpc.make_ldpc(n, d_v, d_c, systematic=True, sparse=True)\n",
        "# Convert H to float32 tensor (0/1)\n",
        "H_torch = torch.tensor(H_np.astype(np.float32), dtype=torch.float32)\n",
        "\n",
        "# ------------------------\n",
        "# 2) Data generation\n",
        "# ------------------------\n",
        "def generate_batch(batch_size, snr_db):\n",
        "    \"\"\"\n",
        "    Returns:\n",
        "      llr: torch.float32 tensor (batch_size, n) -- channel LLRs for codeword bits\n",
        "      code_bits: torch.float32 tensor (batch_size, n) -- target bits {0,1}\n",
        "    \"\"\"\n",
        "    # random messages (batch, k)\n",
        "    k = G.shape[1]\n",
        "    msg = np.random.randint(0, 2, size=(batch_size, k))\n",
        "    # Encode to codeword symbols (pyldpc.encode often returns +1/-1 BPSK symbols)\n",
        "    code_symbols_list = []\n",
        "    for m in msg:\n",
        "        # Use snr=1000 to get noiseless codeword symbols\n",
        "        cw = pyldpc.encode(G, m, snr=1000)\n",
        "        code_symbols_list.append(cw)\n",
        "    code_symbols = np.stack(code_symbols_list)  # shape (batch, n)\n",
        "\n",
        "    # Detect mapping: if code_symbols are in {0,1} convert -> BPSK 1 - 2*bit\n",
        "    unique_min = code_symbols.min()\n",
        "    unique_max = code_symbols.max()\n",
        "    if unique_min >= 0 and unique_max <= 1:\n",
        "        # bits 0/1 -> BPSK\n",
        "        bpsk = 1.0 - 2.0 * code_symbols\n",
        "    else:\n",
        "        # assume already +1/-1\n",
        "        bpsk = code_symbols.astype(np.float32)\n",
        "\n",
        "    # target bits (0/1): code_bit = 1 if symbol is -1 (BPSK mapping)\n",
        "    code_bits = (bpsk < 0).astype(np.float32)\n",
        "\n",
        "    # AWGN noise\n",
        "    snr_lin = 10 ** (snr_db / 10.0)\n",
        "    # Calculate noise variance based on energy per bit (Eb) to noise power spectral density (N0) ratio\n",
        "    # For BPSK, Eb = 1. Assuming codeword symbols are +/-1.\n",
        "    # Eb/N0 = snr_lin\n",
        "    # N0 = Eb / snr_lin = 1 / snr_lin\n",
        "    # sigma^2 = N0 / 2 = 1 / (2 * snr_lin)\n",
        "    sigma2 = 1.0 / (2.0 * snr_lin)\n",
        "    noise = np.sqrt(sigma2) * np.random.randn(*bpsk.shape)\n",
        "    y = bpsk + noise # Apply noise to BPSK symbols\n",
        "\n",
        "    # Channel LLRs for BPSK (assuming equal priors):\n",
        "    # LLR = 2 * y / sigma^2\n",
        "    llr = 2.0 * y / sigma2  # shape (batch, n)\n",
        "\n",
        "    return torch.tensor(llr, dtype=torch.float32), torch.tensor(code_bits, dtype=torch.float32)\n",
        "\n",
        "# ------------------------\n",
        "# 3) NeuralBP model\n",
        "# ------------------------\n",
        "class NeuralBP(nn.Module):\n",
        "    def __init__(self, H, n_iters=5):\n",
        "        \"\"\"\n",
        "        H: (m, n) parity-check matrix tensor with 0/1 entries\n",
        "        \"\"\"\n",
        "        super().__init__()\n",
        "        assert H.dim() == 2\n",
        "        self.register_buffer('H_mask', H)   # (m, n)\n",
        "        m, n = H.shape\n",
        "        self.m = m\n",
        "        self.n = n\n",
        "        self.n_iters = n_iters\n",
        "\n",
        "        # Learnable weights per edge per iteration, masked by H.\n",
        "        # We'll store them as a ParameterList of (m,n) tensors that get multiplied by H_mask.\n",
        "        self.weights = nn.ParameterList([\n",
        "            nn.Parameter(torch.ones(m, n) * H) for _ in range(n_iters)\n",
        "        ])\n",
        "    def forward(self, llr):\n",
        "        \"\"\"\n",
        "        llr: (batch, n) channel LLRs\n",
        "        returns:\n",
        "          Lpost: (batch, n) posterior LLRs (logits) for each code bit\n",
        "        \"\"\"\n",
        "        device = llr.device\n",
        "        H = self.H_mask.to(device)                      # (m, n)\n",
        "        batch = llr.shape[0]\n",
        "\n",
        "        # Initialize variable->check messages Lq (batch, m, n)\n",
        "        # Put llr on each incident edge; zero out non-edges\n",
        "        # Lq_v_to_c = llr_v + sum_{c' in N(v)\\c} Lr_{c' to v}\n",
        "        # Lq is initialized with channel LLRs\n",
        "        Lq = llr.unsqueeze(1).repeat(1, self.m, 1) * H.unsqueeze(0)  # (batch, m, n)\n",
        "        Lr = torch.zeros_like(Lq)  # check->variable messages\n",
        "\n",
        "        large = 1e6  # large value for masking\n",
        "\n",
        "        for t in range(self.n_iters):\n",
        "            W = (self.weights[t] * H).to(device)  # (m, n); masked weights\n",
        "\n",
        "            # --------------------\n",
        "            # Check node update (min-sum exact excluding edge)\n",
        "            # --------------------\n",
        "            # sign of Lq; non-edge positions -> +1 (so they don't affect prod)\n",
        "            sign = torch.sign(Lq)\n",
        "            sign = torch.where(H.unsqueeze(0) > 0, sign, torch.ones_like(sign))\n",
        "\n",
        "            # product of signs across all variable neighbors for each check: (batch, m, 1)\n",
        "            prod_all = torch.prod(sign, dim=2, keepdim=True)  # (batch, m, 1)\n",
        "\n",
        "            # sign excluding current edge = prod_all / sign_edge\n",
        "            # avoid dividing by zero by adding tiny eps\n",
        "            eps = 1e-12\n",
        "            sign_excl = prod_all / (sign + eps)  # (batch, m, n)\n",
        "\n",
        "            # magnitudes absolute\n",
        "            abs_Lq = torch.abs(Lq)  # (batch, m, n)\n",
        "            # mask non-edges with large so they are ignored in mins\n",
        "            abs_masked = torch.where(H.unsqueeze(0) > 0, abs_Lq, torch.full_like(abs_Lq, large))\n",
        "\n",
        "            # =========================================================================\n",
        "            # EFFICIENT REPLACEMENT for finding first and second minimums\n",
        "            # This avoids creating multiple large intermediate tensors and should fix the memory crash.\n",
        "            # =========================================================================\n",
        "            # Find the top 2 smallest values and their indices along the last dimension\n",
        "            top2_vals, top2_indices = torch.topk(abs_masked, 2, dim=2, largest=False)\n",
        "\n",
        "            # Separate them into first and second minimums\n",
        "            first_min_vals = top2_vals[:, :, 0:1]   # Shape: (batch, m, 1)\n",
        "            second_min_vals = top2_vals[:, :, 1:2]  # Shape: (batch, m, 1)\n",
        "            argmin_idx = top2_indices[:, :, 0:1]    # Shape: (batch, m, 1)\n",
        "\n",
        "            # Create a boolean mask indicating the position of the first minimum\n",
        "            arange = torch.arange(self.n, device=device).view(1, 1, self.n)\n",
        "            is_argmin = (arange == argmin_idx)\n",
        "\n",
        "            # For each edge, if it's the minimum, use the second minimum's value, otherwise use the first.\n",
        "            min_excl = torch.where(is_argmin, second_min_vals, first_min_vals)\n",
        "            # =========================================================================\n",
        "\n",
        "            # Build final check->variable message (min-sum) with learned weight:\n",
        "            # Lr = W * sign_excl * min_excl, but zero at non-edges\n",
        "            Lr = (W.unsqueeze(0) * sign_excl * min_excl) * H.unsqueeze(0)\n",
        "\n",
        "            # --------------------\n",
        "            # Variable node update\n",
        "            # --------------------\n",
        "            # For each variable node, new Lq for each incident edge:\n",
        "            # Lq = llr + sum_all_Lr - Lr  (sum over check neighbors)\n",
        "            # sum_all_Lr is the sum of incoming messages from all connected check nodes\n",
        "            sum_Lr = torch.sum(Lr, dim=1, keepdim=True)  # (batch, 1, n)\n",
        "            # Lq_v_to_c = llr_channel_v + sum_{c' in N(v)\\c} Lr_{c' to v}\n",
        "            # The current Lq_{v to c} is llr_channel_v + sum_{c'' in N(v)\\c} Lr_{c'' to v} from previous iteration.\n",
        "            # The new Lq should be llr_channel_v + sum_{c' in N(v)\\c} Lr_{c' to v} where Lr is from the current iteration.\n",
        "            # So, Lq_new = llr_channel + (sum_all_Lr - Lr_current_iteration)\n",
        "            Lq = llr.unsqueeze(1) + sum_Lr - Lr           # (batch, m, n)\n",
        "            # zero non-edges (safety)\n",
        "            Lq = Lq * H.unsqueeze(0)\n",
        "\n",
        "\n",
        "        # Posterior LLRs per variable node (code bit): llr + sum over checks of last Lr\n",
        "        Lpost = llr + torch.sum(Lr, dim=1)  # (batch, n)\n",
        "        return Lpost\n",
        "\n",
        "\n",
        "\n",
        "\n",
        "\n",
        "\n",
        "# ------------------------\n",
        "# 4) Training loop\n",
        "# ------------------------\n",
        "device = \"cuda\" if torch.cuda.is_available() else \"cpu\"\n",
        "model = NeuralBP(H_torch,n_iters=5).to(device)\n",
        "optimizer = optim.Adam(model.parameters(), lr=1e-3)\n",
        "criterion = nn.BCEWithLogitsLoss()  # expects logits and targets in {0,1}\n",
        "\n",
        "# Training hyperparams\n",
        "snr_db_train = 2.0\n",
        "epochs = 60\n",
        "batch_size = 128\n",
        "\n",
        "print(\"Starting training on device:\", device)\n",
        "for epoch in range(epochs):\n",
        "    model.train()\n",
        "    llr_batch, code_bits_batch = generate_batch(batch_size, snr_db_train)\n",
        "    llr_batch = llr_batch.to(device)\n",
        "    code_bits_batch = code_bits_batch.to(device)\n",
        "\n",
        "    optimizer.zero_grad()\n",
        "    out = model(llr_batch)                 # (batch, n) logits (posterior LLR)\n",
        "    loss = criterion(out, code_bits_batch) # BCEWithLogitsLoss\n",
        "    loss.backward()\n",
        "    optimizer.step()\n",
        "\n",
        "    if (epoch + 1) % 5 == 0:\n",
        "        print(f\"Epoch {epoch+1}/{epochs} | Loss = {loss.item():.6f}\")\n",
        "\n",
        "# ------------------------\n",
        "# 5) BER test\n",
        "# ------------------------\n",
        "def test_ber(model, snr_db, N=200):\n",
        "    model.eval()\n",
        "    with torch.no_grad():\n",
        "        llr_batch, code_bits = generate_batch(N, snr_db)\n",
        "        llr_batch = llr_batch.to(device)\n",
        "        out = model(llr_batch)  # (N, n)\n",
        "        # Apply sigmoid to convert logits to probabilities and then threshold at 0.5\n",
        "        decoded_bits = (torch.sigmoid(out) > 0.5).int().cpu()\n",
        "        # Calculate BER by comparing decoded bits to original code bits\n",
        "        ber = (decoded_bits != code_bits.int()).float().mean().item()\n",
        "    return ber\n",
        "\n",
        "snr_range = np.arange(-2, 6, 1)  # from -2 dB to 5 dB\n",
        "ber_nb = []\n",
        "for snr in snr_range:\n",
        "    # Increased N for better BER estimation at lower BERs\n",
        "    b = test_ber(model, snr_db=snr, N=1000)\n",
        "    ber_nb.append(b)\n",
        "    print(f\"SNR {snr} dB -> BER {b:.5e}\")\n",
        "plt.plot(snr_range, ber_nb, 'o-', label='Neural BP (learned min-sum)')\n",
        "plt.xlabel('SNR (dB)')\n",
        "plt.ylabel('BER')\n",
        "plt.title('Neural BP Decoder Performance')\n",
        "plt.grid(True, which='both')\n",
        "plt.legend()\n",
        "plt.show()"
      ],
      "metadata": {
        "colab": {
          "base_uri": "https://localhost:8080/",
          "height": 607
        },
        "id": "XWy4vTRWn4pP",
        "outputId": "704b6f8b-5129-44af-9c1f-608574b2a284"
      },
      "execution_count": null,
      "outputs": [
        {
          "output_type": "stream",
          "name": "stdout",
          "text": [
            "Starting training on device: cpu\n",
            "Epoch 5/60 | Loss = 129.336884\n",
            "Epoch 10/60 | Loss = 136.985458\n",
            "Epoch 15/60 | Loss = 118.858131\n",
            "Epoch 20/60 | Loss = 124.830116\n",
            "Epoch 25/60 | Loss = 116.456909\n",
            "Epoch 30/60 | Loss = 122.804787\n",
            "Epoch 35/60 | Loss = 117.894615\n",
            "Epoch 40/60 | Loss = 119.607025\n",
            "Epoch 45/60 | Loss = 114.300575\n",
            "Epoch 50/60 | Loss = 115.301636\n",
            "Epoch 55/60 | Loss = 110.670418\n",
            "Epoch 60/60 | Loss = 105.916832\n",
            "SNR -2 dB -> BER 9.04990e-01\n",
            "SNR -1 dB -> BER 9.57812e-01\n",
            "SNR 0 dB -> BER 9.85635e-01\n",
            "SNR 1 dB -> BER 9.98156e-01\n",
            "SNR 2 dB -> BER 9.99719e-01\n",
            "SNR 3 dB -> BER 9.99990e-01\n",
            "SNR 4 dB -> BER 1.00000e+00\n",
            "SNR 5 dB -> BER 1.00000e+00\n"
          ]
        },
        {
          "output_type": "display_data",
          "data": {
            "text/plain": [
              "<Figure size 640x480 with 1 Axes>"
            ],
            "image/png": "[encoded data removed]"
          },
          "metadata": {}
        }
      ]
    },
    {
      "cell_type": "code",
      "source": [],
      "metadata": {
        "id": "1o89VEePn5gB"
      },
      "execution_count": null,
      "outputs": []
    }
  ]
}